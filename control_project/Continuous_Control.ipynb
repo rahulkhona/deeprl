{
 "cells": [
  {
   "cell_type": "markdown",
   "metadata": {},
   "source": [
    "# Continuous Control\n",
    "\n",
    "---\n",
    "\n",
    "In this notebook, you will learn how to use the Unity ML-Agents environment for the second project of the [Deep Reinforcement Learning Nanodegree](https://www.udacity.com/course/deep-reinforcement-learning-nanodegree--nd893) program.\n",
    "\n",
    "### 1. Start the Environment\n",
    "\n",
    "We begin by importing the necessary packages.  If the code cell below returns an error, please revisit the project instructions to double-check that you have installed [Unity ML-Agents](https://github.com/Unity-Technologies/ml-agents/blob/master/docs/Installation.md) and [NumPy](http://www.numpy.org/)."
   ]
  },
  {
   "cell_type": "code",
   "execution_count": null,
   "metadata": {},
   "outputs": [],
   "source": [
    "from unityagents import UnityEnvironment\n",
    "import numpy as np"
   ]
  },
  {
   "cell_type": "markdown",
   "metadata": {},
   "source": [
    "Next, we will start the environment!  **_Before running the code cell below_**, change the `file_name` parameter to match the location of the Unity environment that you downloaded.\n",
    "\n",
    "- **Mac**: `\"path/to/Reacher.app\"`\n",
    "- **Windows** (x86): `\"path/to/Reacher_Windows_x86/Reacher.exe\"`\n",
    "- **Windows** (x86_64): `\"path/to/Reacher_Windows_x86_64/Reacher.exe\"`\n",
    "- **Linux** (x86): `\"path/to/Reacher_Linux/Reacher.x86\"`\n",
    "- **Linux** (x86_64): `\"path/to/Reacher_Linux/Reacher.x86_64\"`\n",
    "- **Linux** (x86, headless): `\"path/to/Reacher_Linux_NoVis/Reacher.x86\"`\n",
    "- **Linux** (x86_64, headless): `\"path/to/Reacher_Linux_NoVis/Reacher.x86_64\"`\n",
    "\n",
    "For instance, if you are using a Mac, then you downloaded `Reacher.app`.  If this file is in the same folder as the notebook, then the line below should appear as follows:\n",
    "```\n",
    "env = UnityEnvironment(file_name=\"Reacher.app\")\n",
    "```"
   ]
  },
  {
   "cell_type": "code",
   "execution_count": null,
   "metadata": {},
   "outputs": [],
   "source": [
    "env = UnityEnvironment(file_name='./Reacher_multiagent.app', no_graphics=True)"
   ]
  },
  {
   "cell_type": "markdown",
   "metadata": {},
   "source": [
    "Environments contain **_brains_** which are responsible for deciding the actions of their associated agents. Here we check for the first brain available, and set it as the default brain we will be controlling from Python."
   ]
  },
  {
   "cell_type": "code",
   "execution_count": null,
   "metadata": {},
   "outputs": [],
   "source": [
    "# get the default brain\n",
    "brain_name = env.brain_names[0]\n",
    "brain = env.brains[brain_name]"
   ]
  },
  {
   "cell_type": "markdown",
   "metadata": {},
   "source": [
    "### 2. Examine the State and Action Spaces\n",
    "\n",
    "In this environment, a double-jointed arm can move to target locations. A reward of `+0.1` is provided for each step that the agent's hand is in the goal location. Thus, the goal of your agent is to maintain its position at the target location for as many time steps as possible.\n",
    "\n",
    "The observation space consists of `33` variables corresponding to position, rotation, velocity, and angular velocities of the arm.  Each action is a vector with four numbers, corresponding to torque applicable to two joints.  Every entry in the action vector must be a number between `-1` and `1`.\n",
    "\n",
    "Run the code cell below to print some information about the environment."
   ]
  },
  {
   "cell_type": "code",
   "execution_count": null,
   "metadata": {},
   "outputs": [],
   "source": [
    "# reset the environment\n",
    "env_info = env.reset(train_mode=True)[brain_name]\n",
    "\n",
    "# number of agents\n",
    "num_agents = len(env_info.agents)\n",
    "print('Number of agents:', num_agents)\n",
    "\n",
    "# size of each action\n",
    "action_size = brain.vector_action_space_size\n",
    "print('Size of each action:', action_size)\n",
    "\n",
    "# examine the state space \n",
    "states = env_info.vector_observations\n",
    "state_size = states.shape[1]\n",
    "print('There are {} agents. Each observes a state with length: {}'.format(states.shape[0], state_size))\n",
    "print('The state for the first agent looks like:', states[0])"
   ]
  },
  {
   "cell_type": "markdown",
   "metadata": {},
   "source": [
    "### 3. Take Random Actions in the Environment\n",
    "\n",
    "In the next code cell, you will learn how to use the Python API to control the agent and receive feedback from the environment.\n",
    "\n",
    "Once this cell is executed, you will watch the agent's performance, if it selects an action at random with each time step.  A window should pop up that allows you to observe the agent, as it moves through the environment.  \n",
    "\n",
    "Of course, as part of the project, you'll have to change the code so that the agent is able to use its experience to gradually choose better actions when interacting with the environment!"
   ]
  },
  {
   "cell_type": "code",
   "execution_count": null,
   "metadata": {},
   "outputs": [],
   "source": [
    "env_info = env.reset(train_mode=False)[brain_name]     # reset the environment    \n",
    "states = env_info.vector_observations                  # get the current state (for each agent)\n",
    "scores = np.zeros(num_agents)                          # initialize the score (for each agent)\n",
    "while True:\n",
    "    actions = np.random.randn(num_agents, action_size) # select an action (for each agent)\n",
    "    actions = np.clip(actions, -1, 1)                  # all actions between -1 and 1\n",
    "    #print(\"actions shape\", actions.shape)\n",
    "    env_info = env.step(actions)[brain_name]           # send all actions to tne environment\n",
    "    next_states = env_info.vector_observations         # get next state (for each agent)\n",
    "    rewards = env_info.rewards                         # get reward (for each agent)\n",
    "    print(rewards)\n",
    "    dones = env_info.local_done                        # see if episode finished\n",
    "    scores += env_info.rewards                         # update the score (for each agent)\n",
    "    states = next_states                               # roll over states to next time step\n",
    "    if np.any(dones):                                  # exit loop if episode finished\n",
    "        break\n",
    "print(scores)\n",
    "print('Total score (averaged over agents) this episode: {}'.format(np.mean(scores)))"
   ]
  },
  {
   "cell_type": "markdown",
   "metadata": {},
   "source": [
    "When finished, you can close the environment."
   ]
  },
  {
   "cell_type": "code",
   "execution_count": null,
   "metadata": {},
   "outputs": [],
   "source": [
    "env.close()"
   ]
  },
  {
   "cell_type": "markdown",
   "metadata": {},
   "source": [
    "### 4. It's Your Turn!\n",
    "\n",
    "Now it's your turn to train your own agent to solve the environment!  When training the environment, set `train_mode=True`, so that the line for resetting the environment looks like the following:\n",
    "```python\n",
    "env_info = env.reset(train_mode=True)[brain_name]\n",
    "```"
   ]
  },
  {
   "cell_type": "code",
   "execution_count": 1,
   "metadata": {},
   "outputs": [],
   "source": [
    "import torch\n",
    "import torch.nn as nn\n",
    "import torch.nn.functional as F\n",
    "import torch.optim as optim\n",
    "import numpy as np\n",
    "import matplotlib.pyplot as plt\n",
    "from collections import deque, namedtuple\n",
    "from typing import List, Tuple\n",
    "from unityagents import UnityEnvironment\n",
    "import os\n",
    "import random"
   ]
  },
  {
   "cell_type": "markdown",
   "metadata": {},
   "source": [
    "# Models"
   ]
  },
  {
   "cell_type": "code",
   "execution_count": 2,
   "metadata": {},
   "outputs": [],
   "source": [
    "class OUNoise:\n",
    "    def reset(self):\n",
    "        self.state = self.mu\n",
    "        \n",
    "    def __init__(self, size:int, mu:float=0, theta:float=0.15, sigma:float=0.1):\n",
    "        self.mu = np.ones(size) * mu\n",
    "        self.theta = theta\n",
    "        self.sigma = sigma\n",
    "        self.reset()\n",
    "        \n",
    "    def sample(self):\n",
    "        x = self.state\n",
    "        dx = (x - self.mu) * self.theta + self.sigma * np.array([np.random.rand() for i in range(len(x))])\n",
    "        self.state += dx\n",
    "        return self.state"
   ]
  },
  {
   "cell_type": "code",
   "execution_count": 3,
   "metadata": {},
   "outputs": [],
   "source": [
    "class ValueNetwork(nn.Module):\n",
    "    def __init__(self, state_size:int, action_size:int):\n",
    "        super().__init__()\n",
    "        self.state_size = state_size\n",
    "        self.action_size = action_size\n",
    "        \n",
    "        self.layers = nn.Sequential(\n",
    "            nn.Linear(self.state_size + self.action_size, 128),\n",
    "            nn.ReLU(),\n",
    "            nn.Linear(128, 64),\n",
    "            nn.ReLU(),\n",
    "            nn.Linear(64, 1)\n",
    "        )\n",
    "        \n",
    "    def forward(self, s:torch.Tensor, a:torch.Tensor)->torch.Tensor:\n",
    "        x = torch.concatenate((s, a), axis=1)\n",
    "        return self.layers(x)"
   ]
  },
  {
   "cell_type": "code",
   "execution_count": 4,
   "metadata": {},
   "outputs": [],
   "source": [
    "class OptimalActionNetwork(nn.Module):\n",
    "    def __init__(self, state_size: int, action_size:int):\n",
    "        super().__init__()\n",
    "        self.state_size = state_size\n",
    "        self.action_size = action_size\n",
    "        self.layers = nn.Sequential(\n",
    "            nn.Linear(self.state_size, 128),\n",
    "            nn.ReLU(),\n",
    "            nn.Linear(128, 64),\n",
    "            nn.ReLU(),\n",
    "            nn.Linear(64, self.action_size),\n",
    "            nn.Tanh()\n",
    "        )\n",
    "    def forward(self, x:torch.tensor)->torch.tensor:\n",
    "        return self.layers(x)"
   ]
  },
  {
   "cell_type": "markdown",
   "metadata": {},
   "source": [
    "# Utils"
   ]
  },
  {
   "cell_type": "code",
   "execution_count": 5,
   "metadata": {},
   "outputs": [],
   "source": [
    "def soft_update(target:nn.Module, source:nn.Module, fraction:float=0.005):\n",
    "    for t,s in zip(target.parameters(), source.parameters()):\n",
    "        t = (1-fraction)*t + fraction * s\n",
    "        \n",
    "def concatenate_history(lst:List[np.ndarray]):\n",
    "    return np.concatenate(lst, axis=1)\n",
    "\n",
    "def initialize_seeds(seed:int):\n",
    "    random.seed(seed)\n",
    "    np.random.seed(seed)\n",
    "    torch.manual_seed(seed)"
   ]
  },
  {
   "cell_type": "markdown",
   "metadata": {},
   "source": [
    "# Data storage"
   ]
  },
  {
   "cell_type": "code",
   "execution_count": 6,
   "metadata": {},
   "outputs": [],
   "source": [
    "Experience = namedtuple('Experience',['state', 'action', 'reward', 'next_state', 'done'])\n",
    "class ReplayBuffer:\n",
    "    def __init__(self, buffer_size:int, batch_size:int):\n",
    "        assert buffer_size > 0 and buffer_size >= batch_size\n",
    "        self.buffer_size = buffer_size\n",
    "        self.batch_size = batch_size\n",
    "        self.memory = deque(maxlen=self.buffer_size)\n",
    "        \n",
    "    def add(self, state, action, reward, next_state, done):\n",
    "        self.memory.append(Experience(state, action, reward, next_state, done))\n",
    "        \n",
    "    def __len__(self)->int:\n",
    "        return len(self.memory)\n",
    "    \n",
    "    def convert_to_tensors(self, experiences:Tuple[List[np.ndarray], List[np.ndarray], List[np.ndarray],\n",
    "                                                   List[np.ndarray], List[np.ndarray]],\n",
    "                                                   device:str='cpu')->Tuple[torch.tensor, torch.tensor, torch.tensor,\n",
    "                                                                           torch.tensor, torch.tensor]:\n",
    "        return (torch.from_numpy(experiences[0]).float().to(device),\n",
    "                torch.from_numpy(experiences[1]).float().to(device),\n",
    "                torch.from_numpy(experiences[2]).float().to(device),\n",
    "                torch.from_numpy(experiences[3]).float().to(device),\n",
    "                torch.from_numpy(experiences[4]).float().to(device))\n",
    "        \n",
    "    def sample_experiences(self, indices:List[int])->Tuple[List[np.ndarray], List[np.ndarray], List[np.ndarray],\n",
    "                                                   List[np.ndarray], List[np.ndarray]]:\n",
    "        experiences = [self.memory[i] for i in indices]\n",
    "        states = np.vstack([e.state for e in experiences])\n",
    "        actions = np.vstack([e.action for e in experiences])\n",
    "        rewards = np.vstack([e.reward for e in experiences])\n",
    "        next_states = np.vstack([e.next_state for e in experiences])\n",
    "        dones = np.vstack([e.done for e in experiences])\n",
    "        return (states, actions, rewards, next_states, dones)\n",
    "        \n",
    "\n",
    "        \n",
    "    def sample(self, num_steps:int, device:str='cpu')->List[Tuple[torch.tensor, torch.tensor, torch.tensor,\n",
    "                                                   torch.tensor, torch.tensor]]:\n",
    "        indices = [i for i in range(len(self) + 1 - num_steps)]\n",
    "        indices = indices[:self.batch_size]\n",
    "        random.shuffle(indices)\n",
    "        samples = []\n",
    "        for i in range(num_steps):\n",
    "            samples.append(self.convert_to_tensors(self.sample_experiences(indices)))\n",
    "            indices = [i + 1 for i in indices]\n",
    "        \n",
    "        return samples\n",
    "            \n",
    "                          "
   ]
  },
  {
   "cell_type": "markdown",
   "metadata": {},
   "source": [
    "# Config"
   ]
  },
  {
   "cell_type": "code",
   "execution_count": 7,
   "metadata": {},
   "outputs": [],
   "source": [
    "DEFAULT_BUFFER_SIZE=1024\n",
    "DEFAULT_BATCH_SIZE=64\n",
    "DEFAULT_GAMMA=0.99\n",
    "DEFAULT_TAU=1e-3\n",
    "DEFAULT_HIST_SIZE=4\n",
    "DEFAULT_NSTEPS=3\n",
    "DEFAULT_ACTOR_LR=1e-4\n",
    "DEFAULT_CRITIC_LR=1e-3\n",
    "DEFAULT_ACTOR_UPDATE_EVERY=10\n",
    "\n",
    "SOLVE_SCORE_THRESHOLD=30\n",
    "SOLVE_SCORE_WINDOW=100\n",
    "NUM_EPISODES=10000\n",
    "REPORT_EVERY=100"
   ]
  },
  {
   "cell_type": "markdown",
   "metadata": {},
   "source": [
    "# Agent"
   ]
  },
  {
   "cell_type": "code",
   "execution_count": 8,
   "metadata": {},
   "outputs": [],
   "source": [
    "class D4PGAgent:\n",
    "    def __init__(self, env:UnityEnvironment, device:str='cpu', buffer_size:int=DEFAULT_BUFFER_SIZE,\n",
    "                 batch_size:int=DEFAULT_BATCH_SIZE, nsteps:int=DEFAULT_NSTEPS, gamma:float=DEFAULT_GAMMA,\n",
    "                 tau:float=DEFAULT_TAU, update_actor_every:int=DEFAULT_ACTOR_UPDATE_EVERY,\n",
    "                 hist_size:int=DEFAULT_HIST_SIZE, actor_lr:float=DEFAULT_ACTOR_LR, critic_lr:float=DEFAULT_CRITIC_LR):\n",
    "        self.env = env\n",
    "        self.min_action = -1\n",
    "        self.max_action = 1\n",
    "        brain_name = env.brain_names[0]\n",
    "        brain = env.brains[brain_name]\n",
    "        env_info = env.reset(train_mode=True)[brain_name]\n",
    "\n",
    "        # number of agents\n",
    "        self.num_agents = len(env_info.agents)\n",
    "        self.action_size = brain.vector_action_space_size\n",
    "        states = env_info.vector_observations\n",
    "        self.state_size = states.shape[1]\n",
    "        self.device = device\n",
    "        self.buffer_size = buffer_size\n",
    "        self.batch_size = batch_size\n",
    "        self.nsteps = nsteps\n",
    "        self.gamma = gamma\n",
    "        self.tau = tau\n",
    "        self.critic_lr = critic_lr\n",
    "        self.actor_lr = actor_lr\n",
    "        self.hist_size = hist_size\n",
    "        self.update_actor_every = update_actor_every\n",
    "        self.iteration = 0\n",
    "        self.buffer = ReplayBuffer(self.buffer_size, self.batch_size)\n",
    "        self.actor = OptimalActionNetwork(self.state_size*self.hist_size, self.action_size)\n",
    "        self.actor_target = OptimalActionNetwork(self.state_size*self.hist_size, self.action_size)\n",
    "        self.critic = ValueNetwork(self.state_size*self.hist_size, self.action_size)\n",
    "        self.critic_target = ValueNetwork(self.state_size*self.hist_size, self.action_size)\n",
    "        soft_update(self.actor_target, self.actor, 1)\n",
    "        self.actor_optimizer = optim.Adam(self.actor.parameters(), lr=self.actor_lr)\n",
    "        self.critic_optimizer = optim.Adam(self.critic.parameters(), lr=self.critic_lr)\n",
    "        self.noise = OUNoise(self.action_size)\n",
    "        \n",
    "    def choose_action(self, state:np.ndarray, add_noise:bool=True)->np.ndarray:\n",
    "        assert(state.shape[1] == self.state_size * self.hist_size)\n",
    "        state_t = torch.from_numpy(state).float().to(self.device)\n",
    "        self.actor.eval()\n",
    "        with torch.no_grad():\n",
    "            action = self.actor(state_t).cpu().numpy()\n",
    "        self.actor.train()\n",
    "        action = action * self.max_action\n",
    "        if add_noise:\n",
    "            action += self.noise.sample()\n",
    "        \n",
    "        return np.clip(action, self.min_action, self.max_action)\n",
    "    \n",
    "    def learn(self):\n",
    "        samples = self.buffer.sample(self.nsteps, self.device)\n",
    "        gamma = self.gamma\n",
    "        rewards = samples[0][2] * samples[0][-1]\n",
    "        for i in range(1, self.nsteps):\n",
    "            gamma = gamma * self.gamma\n",
    "            rewards + samples[i][2] * gamma * samples[i][-1]\n",
    "        next_actions = self.actor_target(samples[-1][-2]) * self.max_action\n",
    "        next_actions = next_actions.clip(self.min_action, self.max_action)\n",
    "        q_targets = rewards + gamma * self.gamma * self.critic_target(samples[-1][-2], next_actions)\n",
    "        q_expected = self.critic(samples[0][0], samples[0][1])\n",
    "        assert len(q_targets) == len(q_expected)\n",
    "        \n",
    "        critic_loss = F.mse_loss(q_expected, q_targets)\n",
    "        \n",
    "        self.critic_optimizer.zero_grad()\n",
    "        critic_loss.backward()\n",
    "        self.critic_optimizer.step()\n",
    "        \n",
    "        if self.iteration % self.update_actor_every == 0:\n",
    "            actions_pred = self.actor(samples[0][0]) * self.max_action\n",
    "            actions_pred = actions_pred.clip(self.min_action, self.max_action)\n",
    "            actor_loss = -self.critic(samples[0][0], actions_pred)\n",
    "            for i in range(1, self.nsteps):\n",
    "                actions_pred = self.actor(samples[i][0]) * self.max_action\n",
    "                actions_pred.clip(self.min_action, self.max_action)\n",
    "                actor_loss = actor_loss -self.critic(samples[i][0], actions_pred)\n",
    "            actor_loss = actor_loss.mean()\n",
    "            self.actor_optimizer.zero_grad()\n",
    "            actor_loss.backward()\n",
    "            self.actor_optimizer.step()\n",
    "        \n",
    "        \n",
    "    \n",
    "    def step(self, states:np.ndarray, actions:np.ndarray, rewards:float, next_states:np.ndarray, dones:bool):\n",
    "        assert states.shape[0] == self.num_agents\n",
    "        assert states.shape[1] == self.state_size * self.hist_size\n",
    "        assert next_states.shape[1] == self.state_size * self.hist_size\n",
    "        assert len(states) == len(actions)\n",
    "        assert len(states) == len(rewards)\n",
    "        assert len(states) == len(next_states)\n",
    "        assert len(states) == len(dones)\n",
    "        self.iteration += 1\n",
    "        for i in range(len(states)):\n",
    "            self.buffer.add(states[i], actions[i], rewards[i], next_states[i], dones[i])\n",
    "        if len(self.buffer) >= self.batch_size:\n",
    "            self.learn()\n",
    "            \n",
    "    \n",
    "    def save(self, dir:str):\n",
    "        torch.save(self.actor.model_dict, os.path.join(dir, \"actor.pt\"))\n",
    "        torch.save(self.critic.model_dict, os.path.join(dir, \"critic.pt\"))\n",
    "        \n",
    "    def load(self, dir:str):\n",
    "        self.actor.load_state_dict(torch.load(os.path.join(dir, \"actor.pt\")))\n",
    "        self.actor_target.load_state_dict(torch.load(os.path.join(dir, \"actor.pt\")))\n",
    "        self.critic.load_state_dict(torch.load(os.path.join(dir, \"critic.pt\")))\n",
    "        self.critic_target.load_state_dict(torch.load(os.path.join(dir, \"critic.pt\")))"
   ]
  },
  {
   "cell_type": "markdown",
   "metadata": {},
   "source": [
    "# run script"
   ]
  },
  {
   "cell_type": "code",
   "execution_count": null,
   "metadata": {},
   "outputs": [
    {
     "name": "stdout",
     "output_type": "stream",
     "text": [
      "Mono path[0] = '/Users/rkhona/learn/deeprl/control_project/Reacher_multiagent.app/Contents/Resources/Data/Managed'\n",
      "Mono config path = '/Users/rkhona/learn/deeprl/control_project/Reacher_multiagent.app/Contents/MonoBleedingEdge/etc'\n"
     ]
    },
    {
     "name": "stderr",
     "output_type": "stream",
     "text": [
      "INFO:unityagents:\n",
      "'Academy' started successfully!\n",
      "Unity Academy name: Academy\n",
      "        Number of Brains: 1\n",
      "        Number of External Brains : 1\n",
      "        Lesson number : 0\n",
      "        Reset Parameters :\n",
      "\t\tgoal_size -> 5.0\n",
      "\t\tgoal_speed -> 1.0\n",
      "Unity brain name: ReacherBrain\n",
      "        Number of Visual Observations (per agent): 0\n",
      "        Vector Observation space type: continuous\n",
      "        Vector Observation space size (per agent): 33\n",
      "        Number of stacked Vector Observation: 1\n",
      "        Vector Action space type: continuous\n",
      "        Vector Action space size (per agent): 4\n",
      "        Vector Action descriptions: , , , \n",
      "/Users/rkhona/opt/anaconda3/envs/drlnd/lib/python3.9/site-packages/numpy/core/fromnumeric.py:3504: RuntimeWarning: Mean of empty slice.\n",
      "  return _methods._mean(a, axis=axis, dtype=dtype,\n",
      "/Users/rkhona/opt/anaconda3/envs/drlnd/lib/python3.9/site-packages/numpy/core/_methods.py:129: RuntimeWarning: invalid value encountered in scalar divide\n",
      "  ret = ret.dtype.type(ret / rcount)\n"
     ]
    },
    {
     "name": "stdout",
     "output_type": "stream",
     "text": [
      "staring 1023th episode avg score 0.010714999760501087 0.009959882360549531 training steps 1001\r"
     ]
    }
   ],
   "source": [
    "initialize_seeds(0x42)\n",
    "scores = []\n",
    "score_window = deque(maxlen=SOLVE_SCORE_WINDOW)\n",
    "env = UnityEnvironment(file_name='./Reacher_multiagent.app', no_graphics=True)\n",
    "device = 'cuda' if torch.cuda.is_available() else 'cpu'\n",
    "hist_size = DEFAULT_HIST_SIZE\n",
    "agent = D4PGAgent(env, device, update_actor_every=20)\n",
    "total_steps = 0\n",
    "for i in range(1, NUM_EPISODES + 1):\n",
    "\n",
    "    \n",
    "    #if i % REPORT_EVERY-1 == 0:\n",
    "    print(f\"staring {i}th episode avg score {np.mean(score_window)} {np.mean(scores)} training steps {total_steps}\", end='\\r')\n",
    "    hist = deque(maxlen=hist_size)\n",
    "    env_info = env.reset()[env.brain_names[0]]\n",
    "    #print(\"env info is \", env_info)\n",
    "    hist.append(env_info.vector_observations)\n",
    "    while (len(hist) < hist_size):\n",
    "        hist.append(env_info.vector_observations)\n",
    "    states = concatenate_history(list(hist))\n",
    "    score = np.zeros(agent.num_agents)\n",
    "    total_steps = 0\n",
    "    while True:\n",
    "        total_steps += 1\n",
    "        actions = agent.choose_action(states)\n",
    "        #print(\"actions shape\", actions.shape, \"states shape\", states.shape)\n",
    "        env_info = env.step(actions)[env.brain_names[0]]\n",
    "        rewards = env_info.rewards\n",
    "        mean_rewards = np.mean(rewards)\n",
    "        score += np.array(rewards)\n",
    "        #scores.append(mean_rewards)\n",
    "        #score_window.append(mean_rewards)\n",
    "        hist.append(env_info.vector_observations)\n",
    "        next_states = concatenate_history(list(hist))\n",
    "        dones = env_info.local_done\n",
    "        agent.step(states,actions, rewards, next_states, dones)\n",
    "        states = next_states\n",
    "        if np.any(dones):\n",
    "            #print(score)\n",
    "            scores.append(score)\n",
    "            score_window.append(score)\n",
    "            break\n",
    "    if len(score_window) < SOLVE_SCORE_WINDOW:\n",
    "        continue\n",
    "    \n",
    "    if np.mean(score_window) > SOLVE_SCORE_THRESHOLD:\n",
    "        print(f\"Solved environment in {i} episodes with score {np.mean(score_window)}\")\n",
    "        agent.save(\"./\")\n",
    "        break\n",
    "    \n",
    "\n",
    "fit = plt.figure()\n",
    "ax = fig.add_subplot(111)\n",
    "plt.plot(np.arange(1, len(scores)+1), scores)\n",
    "plt.ylabel('Score')\n",
    "plt.xlabel('Episode #')\n",
    "plt.show()"
   ]
  },
  {
   "cell_type": "code",
   "execution_count": null,
   "metadata": {},
   "outputs": [],
   "source": []
  }
 ],
 "metadata": {
  "kernelspec": {
   "display_name": "drlnd",
   "language": "python",
   "name": "drlnd"
  },
  "language_info": {
   "codemirror_mode": {
    "name": "ipython",
    "version": 3
   },
   "file_extension": ".py",
   "mimetype": "text/x-python",
   "name": "python",
   "nbconvert_exporter": "python",
   "pygments_lexer": "ipython3",
   "version": "3.9.18"
  }
 },
 "nbformat": 4,
 "nbformat_minor": 2
}
