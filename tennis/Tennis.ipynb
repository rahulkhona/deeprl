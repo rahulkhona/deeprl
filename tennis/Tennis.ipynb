{
 "cells": [
  {
   "cell_type": "markdown",
   "metadata": {},
   "source": [
    "# Collaboration and Competition\n",
    "\n",
    "---\n",
    "\n",
    "In this notebook, you will learn how to use the Unity ML-Agents environment for the third project of the [Deep Reinforcement Learning Nanodegree](https://www.udacity.com/course/deep-reinforcement-learning-nanodegree--nd893) program.\n",
    "\n",
    "### 1. Start the Environment\n",
    "\n",
    "We begin by importing the necessary packages.  If the code cell below returns an error, please revisit the project instructions to double-check that you have installed [Unity ML-Agents](https://github.com/Unity-Technologies/ml-agents/blob/master/docs/Installation.md) and [NumPy](http://www.numpy.org/)."
   ]
  },
  {
   "cell_type": "code",
   "execution_count": null,
   "metadata": {},
   "outputs": [],
   "source": [
    "from unityagents import UnityEnvironment\n",
    "import numpy as np"
   ]
  },
  {
   "cell_type": "markdown",
   "metadata": {},
   "source": [
    "Next, we will start the environment!  **_Before running the code cell below_**, change the `file_name` parameter to match the location of the Unity environment that you downloaded.\n",
    "\n",
    "- **Mac**: `\"path/to/Tennis.app\"`\n",
    "- **Windows** (x86): `\"path/to/Tennis_Windows_x86/Tennis.exe\"`\n",
    "- **Windows** (x86_64): `\"path/to/Tennis_Windows_x86_64/Tennis.exe\"`\n",
    "- **Linux** (x86): `\"path/to/Tennis_Linux/Tennis.x86\"`\n",
    "- **Linux** (x86_64): `\"path/to/Tennis_Linux/Tennis.x86_64\"`\n",
    "- **Linux** (x86, headless): `\"path/to/Tennis_Linux_NoVis/Tennis.x86\"`\n",
    "- **Linux** (x86_64, headless): `\"path/to/Tennis_Linux_NoVis/Tennis.x86_64\"`\n",
    "\n",
    "For instance, if you are using a Mac, then you downloaded `Tennis.app`.  If this file is in the same folder as the notebook, then the line below should appear as follows:\n",
    "```\n",
    "env = UnityEnvironment(file_name=\"Tennis.app\")\n",
    "```"
   ]
  },
  {
   "cell_type": "code",
   "execution_count": null,
   "metadata": {},
   "outputs": [],
   "source": [
    "env = UnityEnvironment(file_name=\"./Tennis.app\")"
   ]
  },
  {
   "cell_type": "markdown",
   "metadata": {},
   "source": [
    "Environments contain **_brains_** which are responsible for deciding the actions of their associated agents. Here we check for the first brain available, and set it as the default brain we will be controlling from Python."
   ]
  },
  {
   "cell_type": "code",
   "execution_count": null,
   "metadata": {},
   "outputs": [],
   "source": [
    "# get the default brain\n",
    "brain_name = env.brain_names[0]\n",
    "brain = env.brains[brain_name]"
   ]
  },
  {
   "cell_type": "markdown",
   "metadata": {},
   "source": [
    "### 2. Examine the State and Action Spaces\n",
    "\n",
    "In this environment, two agents control rackets to bounce a ball over a net. If an agent hits the ball over the net, it receives a reward of +0.1.  If an agent lets a ball hit the ground or hits the ball out of bounds, it receives a reward of -0.01.  Thus, the goal of each agent is to keep the ball in play.\n",
    "\n",
    "The observation space consists of 8 variables corresponding to the position and velocity of the ball and racket. Two continuous actions are available, corresponding to movement toward (or away from) the net, and jumping. \n",
    "\n",
    "Run the code cell below to print some information about the environment."
   ]
  },
  {
   "cell_type": "code",
   "execution_count": null,
   "metadata": {},
   "outputs": [],
   "source": [
    "# reset the environment\n",
    "env_info = env.reset(train_mode=True)[brain_name]\n",
    "\n",
    "# number of agents \n",
    "num_agents = len(env_info.agents)\n",
    "print('Number of agents:', num_agents)\n",
    "\n",
    "# size of each action\n",
    "action_size = brain.vector_action_space_size\n",
    "print('Size of each action:', action_size)\n",
    "\n",
    "# examine the state space \n",
    "states = env_info.vector_observations\n",
    "state_size = states.shape[1]\n",
    "print('There are {} agents. Each observes a state with length: {}'.format(states.shape[0], state_size))\n",
    "print('The state for the first agent looks like:', states[0])"
   ]
  },
  {
   "cell_type": "markdown",
   "metadata": {},
   "source": [
    "### 3. Take Random Actions in the Environment\n",
    "\n",
    "In the next code cell, you will learn how to use the Python API to control the agents and receive feedback from the environment.\n",
    "\n",
    "Once this cell is executed, you will watch the agents' performance, if they select actions at random with each time step.  A window should pop up that allows you to observe the agents.\n",
    "\n",
    "Of course, as part of the project, you'll have to change the code so that the agents are able to use their experiences to gradually choose better actions when interacting with the environment!"
   ]
  },
  {
   "cell_type": "code",
   "execution_count": null,
   "metadata": {},
   "outputs": [],
   "source": [
    "for i in range(1, 6):                                      # play game for 5 episodes\n",
    "    env_info = env.reset(train_mode=False)[brain_name]     # reset the environment    \n",
    "    states = env_info.vector_observations                  # get the current state (for each agent)\n",
    "    scores = np.zeros(num_agents)                          # initialize the score (for each agent)\n",
    "    while True:\n",
    "        actions = np.random.randn(num_agents, action_size) # select an action (for each agent)\n",
    "        actions = np.clip(actions, -1, 1)                  # all actions between -1 and 1\n",
    "        env_info = env.step(actions)[brain_name]           # send all actions to tne environment\n",
    "        next_states = env_info.vector_observations         # get next state (for each agent)\n",
    "        rewards = env_info.rewards                         # get reward (for each agent)\n",
    "        dones = env_info.local_done                        # see if episode finished\n",
    "        scores += env_info.rewards                         # update the score (for each agent)\n",
    "        print(\"actions type\", type(actions), \"states type\", type(next_states), \"rewards type\", type(rewards), \"dones type\", type(dones))\n",
    "        print(np.asarray(rewards))\n",
    "        print(np.asarray(dones))\n",
    "        print(\"actions shape\", actions.shape)\n",
    "        print(\"states sahpe\", next_states.shape)\n",
    "        print(\"rewards shape\", np.asarray(rewards).shape)\n",
    "        print(\"dones shape\", np.asarray(dones).shape)\n",
    "        \n",
    "        break\n",
    "        states = next_states                               # roll over states to next time step\n",
    "        if np.any(dones):                                  # exit loop if episode finished\n",
    "            break\n",
    "    print('Score (max over agents) from episode {}: {}'.format(i, np.max(scores)))"
   ]
  },
  {
   "cell_type": "markdown",
   "metadata": {},
   "source": [
    "When finished, you can close the environment."
   ]
  },
  {
   "cell_type": "code",
   "execution_count": null,
   "metadata": {},
   "outputs": [],
   "source": [
    "env.close()"
   ]
  },
  {
   "cell_type": "markdown",
   "metadata": {},
   "source": [
    "### 4. It's Your Turn!\n",
    "\n",
    "Now it's your turn to train your own agent to solve the environment!  When training the environment, set `train_mode=True`, so that the line for resetting the environment looks like the following:\n",
    "```python\n",
    "env_info = env.reset(train_mode=True)[brain_name]\n",
    "```"
   ]
  },
  {
   "cell_type": "code",
   "execution_count": 1,
   "metadata": {},
   "outputs": [],
   "source": [
    "from unityagents import UnityEnvironment\n",
    "from agent import MADDPGAgent\n",
    "import torch\n",
    "import numpy as np\n",
    "import matplotlib.pyplot as plt\n",
    "from collections import deque\n",
    "import os\n",
    "import constants as C\n",
    "import random"
   ]
  },
  {
   "cell_type": "code",
   "execution_count": 2,
   "metadata": {},
   "outputs": [],
   "source": [
    "def plot(scores, image_folder):\n",
    "    x = np.arange(len(scores))\n",
    "    fig, ax = plt.subplots()\n",
    "    ax.set_ylabel(\"episode scores\")\n",
    "    ax.set_xlabel(\"epidsode number\")\n",
    "    plt.ylim((0, 5))\n",
    "    plt.plot(x, scores)\n",
    "    if image_folder:\n",
    "        plt.savefig(os.path.join(image_folder, \"plot.png\"))\n",
    "    plt.show()"
   ]
  },
  {
   "cell_type": "code",
   "execution_count": 3,
   "metadata": {},
   "outputs": [],
   "source": [
    "def run(seed:int=0x10020303):\n",
    "    np.random.seed(seed)\n",
    "    random.seed(seed)\n",
    "    torch.manual_seed(seed)\n",
    "    env = UnityEnvironment(file_name=\"./Tennis.app\", no_graphics=True)\n",
    "    brain_name = env.brain_names[0]\n",
    "    brain = env.brains[brain_name]\n",
    "    env_info = env.reset(train_mode=True)[brain_name]\n",
    "    num_agents = len(env_info.agents)\n",
    "    action_size = brain.vector_action_space_size\n",
    "    states = env_info.vector_observations\n",
    "    state_size = states.shape[1]\n",
    "\n",
    "    device = 'cpu' if not torch.cuda.is_available() else \"cuda\"\n",
    "\n",
    "    agent = MADDPGAgent(num_agents, state_size, action_size)\n",
    "\n",
    "    scores = []\n",
    "    scores_window = deque(maxlen=C.SCORES_WINDOW_LENGTH)\n",
    "    print(\"Starting training\")\n",
    "    steps = 0\n",
    "    for i in range(1, C.NUM_EPISDOES + 1):\n",
    "        env_info = env.reset(train_mode=True)[brain_name]\n",
    "        agent.reset()\n",
    "        obs = env_info.vector_observations\n",
    "        score = np.zeros(num_agents)\n",
    "\n",
    "        while True:\n",
    "            actions = agent.choose_actions(torch.from_numpy(obs).float().to(device), True if i < 100000 else False)\n",
    "            #actions = np.asarray([np.random.uniform(-1, 1, 2), np.random.uniform(-1, 1, 2)])\n",
    "            env_info = env.step(actions)[brain_name]\n",
    "            rewards = np.asarray(env_info.rewards)\n",
    "            rewards *= 10\n",
    "            dones = np.array(env_info.local_done).astype(np.uint8)\n",
    "            next_obs = env_info.vector_observations\n",
    "            agent.step(obs, actions, rewards , next_obs, dones)\n",
    "            obs = next_obs\n",
    "            score += rewards\n",
    "            steps += 1\n",
    "            if np.any(dones):\n",
    "                break\n",
    "        scores.append(np.max(score))\n",
    "        scores_window.append(np.max(score))\n",
    "        if len(scores_window) == C.SCORES_WINDOW_LENGTH and np.mean(scores_window) > C.WINNING_AVG:\n",
    "            print(f\"solved environment in {i} episodes with avg score of {np.mean(scores_window)}\")\n",
    "            agent.save(\"./\")\n",
    "            env.close()\n",
    "            return scores, scores_window, True, i\n",
    "        if i % C.PRINT_EVERY == 0:\n",
    "            print(f\"completed {i} episodes and average score is {np.mean(scores_window)} average steps per episode {steps/i}\", end=\"\\n\")\n",
    "    \n",
    "    env.close()\n",
    "    return scores, scores_window, False, i"
   ]
  },
  {
   "cell_type": "code",
   "execution_count": 4,
   "metadata": {},
   "outputs": [
    {
     "name": "stdout",
     "output_type": "stream",
     "text": [
      "Mono path[0] = '/Users/rkhona/learn/deeprl/tennis/Tennis.app/Contents/Resources/Data/Managed'\n",
      "Mono config path = '/Users/rkhona/learn/deeprl/tennis/Tennis.app/Contents/MonoBleedingEdge/etc'\n"
     ]
    },
    {
     "name": "stderr",
     "output_type": "stream",
     "text": [
      "INFO:unityagents:\n",
      "'Academy' started successfully!\n",
      "Unity Academy name: Academy\n",
      "        Number of Brains: 1\n",
      "        Number of External Brains : 1\n",
      "        Lesson number : 0\n",
      "        Reset Parameters :\n",
      "\t\t\n",
      "Unity brain name: TennisBrain\n",
      "        Number of Visual Observations (per agent): 0\n",
      "        Vector Observation space type: continuous\n",
      "        Vector Observation space size (per agent): 8\n",
      "        Number of stacked Vector Observation: 3\n",
      "        Vector Action space type: continuous\n",
      "        Vector Action space size (per agent): 2\n",
      "        Vector Action descriptions: , \n"
     ]
    },
    {
     "name": "stdout",
     "output_type": "stream",
     "text": [
      "Starting training\n",
      "completed 10 episodes and average score is 0.0 average steps per episode 14.5\n",
      "completed 20 episodes and average score is 0.05000000074505806 average steps per episode 15.25\n",
      "completed 30 episodes and average score is 0.06666666766007741 average steps per episode 16.133333333333333\n",
      "completed 40 episodes and average score is 0.07250000117346644 average steps per episode 16.075\n",
      "completed 50 episodes and average score is 0.07600000128149986 average steps per episode 16.02\n",
      "completed 60 episodes and average score is 0.09333333497246106 average steps per episode 16.283333333333335\n",
      "completed 70 episodes and average score is 0.09285714450691428 average steps per episode 16.2\n",
      "completed 80 episodes and average score is 0.08125000144354999 average steps per episode 15.95\n",
      "completed 90 episodes and average score is 0.07222222350537777 average steps per episode 15.755555555555556\n",
      "completed 100 episodes and average score is 0.06500000115483999 average steps per episode 15.6\n",
      "completed 110 episodes and average score is 0.0830000014975667 average steps per episode 15.763636363636364\n",
      "completed 120 episodes and average score is 0.07300000134855508 average steps per episode 15.633333333333333\n",
      "completed 130 episodes and average score is 0.06300000119954348 average steps per episode 15.523076923076923\n",
      "completed 140 episodes and average score is 0.054000001028180124 average steps per episode 15.428571428571429\n",
      "completed 150 episodes and average score is 0.04500000085681677 average steps per episode 15.346666666666666\n",
      "completed 160 episodes and average score is 0.027000000514090062 average steps per episode 15.275\n",
      "completed 170 episodes and average score is 0.018000000342726707 average steps per episode 15.211764705882352\n",
      "completed 180 episodes and average score is 0.018000000342726707 average steps per episode 15.155555555555555\n",
      "completed 190 episodes and average score is 0.018000000342726707 average steps per episode 15.105263157894736\n",
      "completed 200 episodes and average score is 0.018000000342726707 average steps per episode 15.06\n",
      "completed 210 episodes and average score is 0.0 average steps per episode 15.019047619047619\n",
      "completed 220 episodes and average score is 0.0 average steps per episode 14.981818181818182\n",
      "completed 230 episodes and average score is 0.0 average steps per episode 14.947826086956521\n",
      "completed 240 episodes and average score is 0.0 average steps per episode 14.916666666666666\n",
      "completed 250 episodes and average score is 0.0 average steps per episode 14.888\n",
      "completed 260 episodes and average score is 0.0 average steps per episode 14.861538461538462\n",
      "completed 270 episodes and average score is 0.0 average steps per episode 14.837037037037037\n",
      "completed 280 episodes and average score is 0.0 average steps per episode 14.814285714285715\n",
      "completed 290 episodes and average score is 0.0 average steps per episode 14.793103448275861\n",
      "completed 300 episodes and average score is 0.0 average steps per episode 14.773333333333333\n",
      "completed 310 episodes and average score is 0.0 average steps per episode 14.754838709677419\n",
      "completed 320 episodes and average score is 0.0 average steps per episode 14.7375\n",
      "completed 330 episodes and average score is 0.0 average steps per episode 14.72121212121212\n",
      "completed 340 episodes and average score is 0.0 average steps per episode 14.705882352941176\n",
      "completed 350 episodes and average score is 0.0 average steps per episode 14.691428571428572\n",
      "completed 360 episodes and average score is 0.0 average steps per episode 14.677777777777777\n",
      "completed 370 episodes and average score is 0.0 average steps per episode 14.664864864864866\n",
      "completed 380 episodes and average score is 0.0 average steps per episode 14.652631578947368\n",
      "completed 390 episodes and average score is 0.0 average steps per episode 14.64102564102564\n",
      "completed 400 episodes and average score is 0.0 average steps per episode 14.63\n",
      "completed 410 episodes and average score is 0.0 average steps per episode 14.61951219512195\n",
      "completed 420 episodes and average score is 0.0 average steps per episode 14.60952380952381\n",
      "completed 430 episodes and average score is 0.0 average steps per episode 14.6\n",
      "completed 440 episodes and average score is 0.0 average steps per episode 14.590909090909092\n",
      "completed 450 episodes and average score is 0.0 average steps per episode 14.582222222222223\n",
      "completed 460 episodes and average score is 0.0 average steps per episode 14.57391304347826\n",
      "completed 470 episodes and average score is 0.0 average steps per episode 14.565957446808511\n",
      "completed 480 episodes and average score is 0.0 average steps per episode 14.558333333333334\n",
      "completed 490 episodes and average score is 0.0 average steps per episode 14.551020408163266\n",
      "completed 500 episodes and average score is 0.0 average steps per episode 14.544\n",
      "completed 510 episodes and average score is 0.0 average steps per episode 14.537254901960784\n",
      "completed 520 episodes and average score is 0.0 average steps per episode 14.53076923076923\n",
      "completed 530 episodes and average score is 0.0 average steps per episode 14.524528301886793\n",
      "completed 540 episodes and average score is 0.0 average steps per episode 14.518518518518519\n",
      "completed 550 episodes and average score is 0.0 average steps per episode 14.512727272727274\n",
      "completed 560 episodes and average score is 0.0 average steps per episode 14.507142857142858\n",
      "completed 570 episodes and average score is 0.0 average steps per episode 14.501754385964912\n",
      "completed 580 episodes and average score is 0.0 average steps per episode 14.49655172413793\n",
      "completed 590 episodes and average score is 0.009000000171363353 average steps per episode 14.520338983050847\n",
      "completed 600 episodes and average score is 0.036000000685453414 average steps per episode 14.603333333333333\n",
      "completed 610 episodes and average score is 0.036000000685453414 average steps per episode 14.59672131147541\n",
      "completed 620 episodes and average score is 0.046000000834465024 average steps per episode 14.620967741935484\n",
      "completed 630 episodes and average score is 0.05600000098347664 average steps per episode 14.644444444444444\n",
      "completed 640 episodes and average score is 0.05600000098347664 average steps per episode 14.6375\n",
      "completed 650 episodes and average score is 0.05600000098347664 average steps per episode 14.63076923076923\n",
      "completed 660 episodes and average score is 0.07500000130385161 average steps per episode 14.68030303030303\n",
      "completed 670 episodes and average score is 0.07500000130385161 average steps per episode 14.67313432835821\n",
      "completed 680 episodes and average score is 0.08500000145286321 average steps per episode 14.694117647058823\n",
      "completed 690 episodes and average score is 0.07600000128149986 average steps per episode 14.68695652173913\n",
      "completed 700 episodes and average score is 0.059000000916421415 average steps per episode 14.707142857142857\n",
      "completed 710 episodes and average score is 0.059000000916421415 average steps per episode 14.701408450704225\n",
      "completed 720 episodes and average score is 0.059000000916421415 average steps per episode 14.722222222222221\n",
      "completed 730 episodes and average score is 0.049000000767409804 average steps per episode 14.715068493150685\n",
      "completed 740 episodes and average score is 0.059000000916421415 average steps per episode 14.758108108108107\n",
      "completed 750 episodes and average score is 0.09500000160187483 average steps per episode 14.848\n",
      "completed 760 episodes and average score is 0.08500000145286321 average steps per episode 14.861842105263158\n",
      "completed 770 episodes and average score is 0.08500000145286321 average steps per episode 14.853246753246752\n",
      "completed 780 episodes and average score is 0.09300000164657832 average steps per episode 14.89102564102564\n",
      "completed 790 episodes and average score is 0.11100000198930501 average steps per episode 14.927848101265823\n",
      "completed 800 episodes and average score is 0.11900000218302012 average steps per episode 14.965\n",
      "completed 810 episodes and average score is 0.11900000218302012 average steps per episode 14.955555555555556\n",
      "completed 820 episodes and average score is 0.1090000020340085 average steps per episode 14.946341463414635\n",
      "completed 830 episodes and average score is 0.1090000020340085 average steps per episode 14.937349397590362\n"
     ]
    },
    {
     "name": "stdout",
     "output_type": "stream",
     "text": [
      "completed 840 episodes and average score is 0.10800000205636025 average steps per episode 14.948809523809524\n",
      "completed 850 episodes and average score is 0.09100000169128179 average steps per episode 14.98\n",
      "completed 860 episodes and average score is 0.11800000220537185 average steps per episode 15.054651162790698\n",
      "completed 870 episodes and average score is 0.16300000306218862 average steps per episode 15.14367816091954\n",
      "completed 880 episodes and average score is 0.19900000374764204 average steps per episode 15.243181818181819\n",
      "completed 890 episodes and average score is 0.21700000409036874 average steps per episode 15.304494382022472\n",
      "completed 900 episodes and average score is 0.2080000039190054 average steps per episode 15.307777777777778\n",
      "completed 910 episodes and average score is 0.2360000044107437 average steps per episode 15.348351648351649\n",
      "completed 920 episodes and average score is 0.2540000047534704 average steps per episode 15.369565217391305\n",
      "completed 930 episodes and average score is 0.2630000049248338 average steps per episode 15.374193548387098\n",
      "completed 940 episodes and average score is 0.28100000526756047 average steps per episode 15.418085106382978\n",
      "completed 950 episodes and average score is 0.34400000646710394 average steps per episode 15.56\n",
      "completed 960 episodes and average score is 0.3620000068098307 average steps per episode 15.653125\n",
      "completed 970 episodes and average score is 0.3350000062957406 average steps per episode 15.67319587628866\n",
      "completed 980 episodes and average score is 0.3170000059530139 average steps per episode 15.726530612244899\n",
      "completed 990 episodes and average score is 0.3530000066384673 average steps per episode 15.847474747474747\n",
      "completed 1000 episodes and average score is 0.3530000066384673 average steps per episode 15.848\n",
      "completed 1010 episodes and average score is 0.37000000700354574 average steps per episode 15.928712871287129\n",
      "completed 1020 episodes and average score is 0.3880000073462725 average steps per episode 15.97549019607843\n",
      "completed 1030 episodes and average score is 0.4150000078603625 average steps per episode 16.023300970873787\n",
      "completed 1040 episodes and average score is 0.4150000078603625 average steps per episode 16.05480769230769\n",
      "completed 1050 episodes and average score is 0.37800000719726085 average steps per episode 16.11809523809524\n",
      "completed 1060 episodes and average score is 0.3870000073686242 average steps per episode 16.206603773584906\n",
      "completed 1070 episodes and average score is 0.432000008225441 average steps per episode 16.298130841121495\n",
      "completed 1080 episodes and average score is 0.4410000083968043 average steps per episode 16.35648148148148\n",
      "completed 1090 episodes and average score is 0.4230000080540776 average steps per episode 16.428440366972477\n",
      "completed 1100 episodes and average score is 0.45900000873953106 average steps per episode 16.486363636363638\n",
      "completed 1110 episodes and average score is 0.4680000089108944 average steps per episode 16.555855855855857\n",
      "completed 1120 episodes and average score is 0.4860000092536211 average steps per episode 16.623214285714287\n",
      "solved environment in 1122 episodes with avg score of 0.505000009573996\n"
     ]
    },
    {
     "data": {
      "image/png": "[encoded data removed]",
      "text/plain": [
       "<Figure size 640x480 with 1 Axes>"
      ]
     },
     "metadata": {},
     "output_type": "display_data"
    }
   ],
   "source": [
    "scores, score_window, solved, iterations = run()\n",
    "if solved:\n",
    "        plot(scores, \"./\")"
   ]
  },
  {
   "cell_type": "code",
   "execution_count": null,
   "metadata": {},
   "outputs": [],
   "source": []
  }
 ],
 "metadata": {
  "kernelspec": {
   "display_name": "drlnd",
   "language": "python",
   "name": "drlnd"
  },
  "language_info": {
   "codemirror_mode": {
    "name": "ipython",
    "version": 3
   },
   "file_extension": ".py",
   "mimetype": "text/x-python",
   "name": "python",
   "nbconvert_exporter": "python",
   "pygments_lexer": "ipython3",
   "version": "3.9.18"
  }
 },
 "nbformat": 4,
 "nbformat_minor": 2
}
